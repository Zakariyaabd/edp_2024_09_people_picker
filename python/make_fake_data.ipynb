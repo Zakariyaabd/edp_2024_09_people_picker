{
 "cells": [
  {
   "cell_type": "markdown",
   "metadata": {},
   "source": [
    "# Make fake data\n",
    "This notebook allows you to create fake, but realistic looking data.\n",
    "Set variables at the top and execute the cells.\n",
    "\n",
    "Output: a file in the current directory."
   ]
  },
  {
   "cell_type": "markdown",
   "metadata": {},
   "source": [
    "## Import packages and initialize variables"
   ]
  },
  {
   "cell_type": "code",
   "execution_count": 1,
   "metadata": {},
   "outputs": [],
   "source": [
    "from faker import Faker\n",
    "import json\n",
    "import random\n",
    "\n",
    "database_filename = 'people.json'\n",
    "how_many_people = 100\n",
    "\n",
    "faker = Faker()"
   ]
  },
  {
   "cell_type": "markdown",
   "metadata": {},
   "source": [
    "## Create the fake people"
   ]
  },
  {
   "cell_type": "code",
   "execution_count": 2,
   "metadata": {},
   "outputs": [
    {
     "name": "stdout",
     "output_type": "stream",
     "text": [
      "done\n"
     ]
    }
   ],
   "source": [
    "lego_people = []\n",
    "for i in range(how_many_people):\n",
    "    person = {}\n",
    "    person[\"first\"] = faker.first_name()\n",
    "    person[\"last\"] = faker.last_name()\n",
    "    person[\"age\"] = random.randint(18,100)\n",
    "    person[\"phone\"] = faker.phone_number()\n",
    "    person[\"email\"] = faker.email()\n",
    "    lego_people.append(person)\n",
    "print(\"done\")\n",
    "\n",
    "lego_people = sorted(lego_people, key= lambda p: p['last']+' '+p['first'])"
   ]
  },
  {
   "cell_type": "markdown",
   "metadata": {},
   "source": [
    "## Save people to a file in JSON format"
   ]
  },
  {
   "cell_type": "code",
   "execution_count": 30,
   "metadata": {},
   "outputs": [],
   "source": [
    "with open(database_filename, 'w') as fout:\n",
    "    fout.write(json.dumps(lego_people, indent=2))\n",
    "\n"
   ]
  },
  {
   "cell_type": "markdown",
   "metadata": {},
   "source": [
    "## Bonus information\n",
    "This section isn't needed procedurally, just some notes/reminders about python."
   ]
  },
  {
   "cell_type": "code",
   "execution_count": null,
   "metadata": {},
   "outputs": [],
   "source": [
    "# Make a list of old people (> 50)\n",
    "# 1) The imperitive/old way\n",
    "old_people = []\n",
    "for person in lego_people:\n",
    "    if (person['age'] > 50):\n",
    "        old_people.append( {\"n\": person[\"first\"], \"a\":person[\"age\"]})\n",
    "\n",
    "# 2) The declarative/new way\n",
    "old_people = [ {\"n\": person[\"first\"], \"a\":person[\"age\"]} for person in lego_people if  person['age'] > 50]\n",
    "\n"
   ]
  },
  {
   "cell_type": "code",
   "execution_count": 3,
   "metadata": {},
   "outputs": [
    {
     "name": "stdout",
     "output_type": "stream",
     "text": [
      "101\n",
      "100\n"
     ]
    }
   ],
   "source": [
    "# How to make a copy of a list\n",
    "\n",
    "# 1) Reference copy\n",
    "list_copy1 = lego_people\n",
    "\n",
    "# 2) Shallow copy\n",
    "list_copy2 = [ *lego_people ]\n"
   ]
  },
  {
   "cell_type": "code",
   "execution_count": 6,
   "metadata": {},
   "outputs": [
    {
     "name": "stdout",
     "output_type": "stream",
     "text": [
      "{'first': 'Jo', 'last': 'Adkins', 'age': 41, 'phone': '884.686.6642x8912', 'email': 'mariah88@example.net'}\n",
      "{'first': 'Donna', 'last': 'Adkins', 'age': 41, 'phone': '884.686.6642x8912', 'email': 'mariah88@example.net'}\n",
      "{'first': 'Donna', 'last': 'Adkins', 'age': 41, 'phone': '884.686.6642x8912', 'email': 'mariah88@example.net'}\n"
     ]
    }
   ],
   "source": [
    "# How to make a copy of a dict\n",
    "\n",
    "# 1) Reference copy\n",
    "copy1 = lego_people[0]\n",
    "\n",
    "# 2) Shallow copy\n",
    "copy2 = { **lego_people[0] }\n",
    "\n",
    "# 3) Deep copy - Need to use a library called copy\n",
    "import copy\n",
    "copy3 = copy.deepcopy(lego_people[0])\n"
   ]
  }
 ],
 "metadata": {
  "kernelspec": {
   "display_name": "Python 3",
   "language": "python",
   "name": "python3"
  },
  "language_info": {
   "codemirror_mode": {
    "name": "ipython",
    "version": 3
   },
   "file_extension": ".py",
   "mimetype": "text/x-python",
   "name": "python",
   "nbconvert_exporter": "python",
   "pygments_lexer": "ipython3",
   "version": "3.9.5"
  }
 },
 "nbformat": 4,
 "nbformat_minor": 2
}
